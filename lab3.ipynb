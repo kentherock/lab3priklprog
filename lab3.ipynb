{
 "cells": [
  {
   "cell_type": "code",
   "execution_count": 1,
   "id": "c9701c5b",
   "metadata": {},
   "outputs": [],
   "source": [
    "import sys\n",
    "import re\n",
    "from PyQt5.QtCore import QRegExp\n",
    "from PyQt5.QtGui import QColor, QTextCharFormat, QFont, QSyntaxHighlighter\n",
    "from PyQt5.QtWidgets import QApplication, QPlainTextEdit"
   ]
  },
  {
   "cell_type": "code",
   "execution_count": 2,
   "id": "f2232b73",
   "metadata": {},
   "outputs": [],
   "source": [
    "class Highlighter(QSyntaxHighlighter):\n",
    "    def __init__(self, parent):\n",
    "        super().__init__(parent)\n",
    "\n",
    "        self.highlighting_rules = []\n",
    "\n",
    "        # правило для выделения строк, содержащих две буквы \"z\" ровно с тремя символами между ними\n",
    "        pattern = QRegExp(\"z.{3}z\")\n",
    "        format = QTextCharFormat()\n",
    "        format.setForeground(QColor(\"blue\"))\n",
    "        format.setFontWeight(QFont.Bold)\n",
    "        self.highlighting_rules.append((pattern, format))\n",
    "\n",
    "    def highlightBlock(self, text):\n",
    "        for pattern, format in self.highlighting_rules:\n",
    "            expression = QRegExp(pattern)\n",
    "            index = expression.indexIn(text)\n",
    "            while index >= 0:\n",
    "                length = expression.matchedLength()\n",
    "                self.setFormat(index, length, format)\n",
    "                index = expression.indexIn(text, index + length)"
   ]
  },
  {
   "cell_type": "code",
   "execution_count": 3,
   "id": "6dbdab6f",
   "metadata": {},
   "outputs": [],
   "source": [
    "class MainWindow(QPlainTextEdit):\n",
    "    def __init__(self):\n",
    "        super().__init__()\n",
    "\n",
    "        self.highlighter = Highlighter(self.document())\n",
    "\n",
    "        # задаем шрифт\n",
    "        font = QFont()\n",
    "        font.setFamily(\"Courier\")\n",
    "        font.setFixedPitch(True)\n",
    "        font.setPointSize(15)\n",
    "        self.setFont(font)\n",
    "\n",
    "        # 4 символа - макс\n",
    "        self.setTabStopWidth(4 * self.fontMetrics().width(' '))"
   ]
  },
  {
   "cell_type": "code",
   "execution_count": 4,
   "id": "38898c2f",
   "metadata": {},
   "outputs": [
    {
     "ename": "SystemExit",
     "evalue": "0",
     "output_type": "error",
     "traceback": [
      "An exception has occurred, use %tb to see the full traceback.\n",
      "\u001b[1;31mSystemExit\u001b[0m\u001b[1;31m:\u001b[0m 0\n"
     ]
    },
    {
     "name": "stderr",
     "output_type": "stream",
     "text": [
      "C:\\ProgramData\\Anaconda3\\lib\\site-packages\\IPython\\core\\interactiveshell.py:3465: UserWarning: To exit: use 'exit', 'quit', or Ctrl-D.\n",
      "  warn(\"To exit: use 'exit', 'quit', or Ctrl-D.\", stacklevel=1)\n"
     ]
    }
   ],
   "source": [
    "if __name__ == \"__main__\":\n",
    "    app = QApplication(sys.argv)\n",
    "    window = MainWindow()\n",
    "    window.show()\n",
    "    sys.exit(app.exec_())"
   ]
  },
  {
   "cell_type": "code",
   "execution_count": null,
   "id": "875259a1",
   "metadata": {},
   "outputs": [],
   "source": []
  }
 ],
 "metadata": {
  "kernelspec": {
   "display_name": "Python 3 (ipykernel)",
   "language": "python",
   "name": "python3"
  },
  "language_info": {
   "codemirror_mode": {
    "name": "ipython",
    "version": 3
   },
   "file_extension": ".py",
   "mimetype": "text/x-python",
   "name": "python",
   "nbconvert_exporter": "python",
   "pygments_lexer": "ipython3",
   "version": "3.9.13"
  }
 },
 "nbformat": 4,
 "nbformat_minor": 5
}
